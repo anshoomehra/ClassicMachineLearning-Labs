{
 "cells": [
  {
   "cell_type": "markdown",
   "metadata": {},
   "source": [
    "# Decision Trees"
   ]
  },
  {
   "cell_type": "markdown",
   "metadata": {
    "collapsed": true
   },
   "source": [
    "Decision Trees are capable of drawing multiple decision boundaries, in essence create a tree structure leading to desired outcomes.\n",
    "\n",
    "![DT](images/ml22.png)\n",
    "\n",
    "More complex example\n",
    "\n",
    "![DT](images/ml23.png)"
   ]
  },
  {
   "cell_type": "markdown",
   "metadata": {},
   "source": [
    "Trying to train the Acceleration Module of Car to decide acceleration based in bumpiness and slope of the terrian.\n",
    "\n",
    "1. We will generate data\n",
    "2. Classify using Gaussian Naive Bayes\n",
    "3. Predict\n",
    "4. Plot"
   ]
  },
  {
   "cell_type": "markdown",
   "metadata": {},
   "source": [
    "#### Terrain Data Preparation "
   ]
  },
  {
   "cell_type": "code",
   "execution_count": 1,
   "metadata": {
    "collapsed": true
   },
   "outputs": [],
   "source": [
    "#!/usr/bin/python\n",
    "import random\n",
    "\n",
    "\n",
    "def makeTerrainData(n_points=1000):\n",
    "###############################################################################\n",
    "### make the toy dataset\n",
    "    random.seed(42)\n",
    "    grade = [random.random() for ii in range(0,n_points)]\n",
    "    bumpy = [random.random() for ii in range(0,n_points)]\n",
    "    error = [random.random() for ii in range(0,n_points)]\n",
    "    y = [round(grade[ii]*bumpy[ii]+0.3+0.1*error[ii]) for ii in range(0,n_points)]\n",
    "    for ii in range(0, len(y)):\n",
    "        if grade[ii]>0.8 or bumpy[ii]>0.8:\n",
    "            y[ii] = 1.0\n",
    "\n",
    "### split into train/test sets\n",
    "    X = [[gg, ss] for gg, ss in zip(grade, bumpy)]\n",
    "    split = int(0.75*n_points)\n",
    "    X_train = X[0:split]\n",
    "    X_test  = X[split:]\n",
    "    y_train = y[0:split]\n",
    "    y_test  = y[split:]\n",
    "\n",
    "    grade_sig = [X_train[ii][0] for ii in range(0, len(X_train)) if y_train[ii]==0]\n",
    "    bumpy_sig = [X_train[ii][1] for ii in range(0, len(X_train)) if y_train[ii]==0]\n",
    "    grade_bkg = [X_train[ii][0] for ii in range(0, len(X_train)) if y_train[ii]==1]\n",
    "    bumpy_bkg = [X_train[ii][1] for ii in range(0, len(X_train)) if y_train[ii]==1]\n",
    "\n",
    "#    training_data = {\"fast\":{\"grade\":grade_sig, \"bumpiness\":bumpy_sig}\n",
    "#            , \"slow\":{\"grade\":grade_bkg, \"bumpiness\":bumpy_bkg}}\n",
    "\n",
    "\n",
    "    grade_sig = [X_test[ii][0] for ii in range(0, len(X_test)) if y_test[ii]==0]\n",
    "    bumpy_sig = [X_test[ii][1] for ii in range(0, len(X_test)) if y_test[ii]==0]\n",
    "    grade_bkg = [X_test[ii][0] for ii in range(0, len(X_test)) if y_test[ii]==1]\n",
    "    bumpy_bkg = [X_test[ii][1] for ii in range(0, len(X_test)) if y_test[ii]==1]\n",
    "\n",
    "    test_data = {\"fast\":{\"grade\":grade_sig, \"bumpiness\":bumpy_sig}\n",
    "            , \"slow\":{\"grade\":grade_bkg, \"bumpiness\":bumpy_bkg}}\n",
    "\n",
    "    return X_train, y_train, X_test, y_test\n",
    "#    return training_data, test_data"
   ]
  },
  {
   "cell_type": "markdown",
   "metadata": {},
   "source": [
    "#### Visualization Library"
   ]
  },
  {
   "cell_type": "code",
   "execution_count": 2,
   "metadata": {
    "collapsed": true
   },
   "outputs": [],
   "source": [
    "#!/usr/bin/python\n",
    "\n",
    "#from udacityplots import *\n",
    "import warnings\n",
    "warnings.filterwarnings(\"ignore\")\n",
    "\n",
    "import matplotlib \n",
    "matplotlib.use('agg')\n",
    "\n",
    "import matplotlib.pyplot as plt\n",
    "import pylab as pl\n",
    "import numpy as np\n",
    "\n",
    "#import numpy as np\n",
    "#import matplotlib.pyplot as plt\n",
    "#plt.ioff()\n",
    "\n",
    "def prettyPicture(clf, X_test, y_test):\n",
    "    x_min = 0.0; x_max = 1.0\n",
    "    y_min = 0.0; y_max = 1.0\n",
    "\n",
    "    # Plot the decision boundary. For that, we will assign a color to each\n",
    "    # point in the mesh [x_min, m_max]x[y_min, y_max].\n",
    "    h = .01  # step size in the mesh\n",
    "    xx, yy = np.meshgrid(np.arange(x_min, x_max, h), np.arange(y_min, y_max, h))\n",
    "    Z = clf.predict(np.c_[xx.ravel(), yy.ravel()])\n",
    "\n",
    "    # Put the result into a color plot\n",
    "    Z = Z.reshape(xx.shape)\n",
    "    plt.xlim(xx.min(), xx.max())\n",
    "    plt.ylim(yy.min(), yy.max())\n",
    "\n",
    "    plt.pcolormesh(xx, yy, Z, cmap=pl.cm.seismic)\n",
    "\n",
    "    # Plot also the test points\n",
    "    grade_sig = [X_test[ii][0] for ii in range(0, len(X_test)) if y_test[ii]==0]\n",
    "    bumpy_sig = [X_test[ii][1] for ii in range(0, len(X_test)) if y_test[ii]==0]\n",
    "    grade_bkg = [X_test[ii][0] for ii in range(0, len(X_test)) if y_test[ii]==1]\n",
    "    bumpy_bkg = [X_test[ii][1] for ii in range(0, len(X_test)) if y_test[ii]==1]\n",
    "\n",
    "    plt.scatter(grade_sig, bumpy_sig, color = \"b\", label=\"fast\")\n",
    "    plt.scatter(grade_bkg, bumpy_bkg, color = \"r\", label=\"slow\")\n",
    "    plt.legend()\n",
    "    plt.xlabel(\"bumpiness\")\n",
    "    plt.ylabel(\"grade\")\n",
    "\n",
    "    plt.savefig(\"test.png\")\n",
    "    \n",
    "import base64\n",
    "import json\n",
    "import subprocess\n",
    "\n",
    "def output_image(name, format, bytes):\n",
    "    image_start = \"BEGIN_IMAGE_f9825uweof8jw9fj4r8\"\n",
    "    image_end = \"END_IMAGE_0238jfw08fjsiufhw8frs\"\n",
    "    data = {}\n",
    "    data['name'] = name\n",
    "    data['format'] = format\n",
    "    data['bytes'] = base64.encodestring(bytes)\n",
    "    print (image_start+json.dumps(data)+image_end)"
   ]
  },
  {
   "cell_type": "markdown",
   "metadata": {},
   "source": [
    "#### Classifier"
   ]
  },
  {
   "cell_type": "code",
   "execution_count": 4,
   "metadata": {
    "collapsed": false
   },
   "outputs": [],
   "source": [
    "def classify(features_train, labels_train):   \n",
    "    ### import the sklearn module for GaussianNB\n",
    "    ### create classifier\n",
    "    ### fit the classifier on the training features and labels\n",
    "    ### return the fit classifier\n",
    "    from sklearn import tree\n",
    "    clf = tree.DecisionTreeClassifier()\n",
    "    return clf.fit(features_train,labels_train)"
   ]
  },
  {
   "cell_type": "markdown",
   "metadata": {},
   "source": [
    "#### Main"
   ]
  },
  {
   "cell_type": "code",
   "execution_count": 5,
   "metadata": {
    "collapsed": false
   },
   "outputs": [
    {
     "data": {
      "image/png": "[encoded data removed]",
      "text/plain": [
       "<IPython.core.display.Image object>"
      ]
     },
     "execution_count": 5,
     "metadata": {},
     "output_type": "execute_result"
    }
   ],
   "source": [
    "#!/usr/bin/python\n",
    "\n",
    "\"\"\" lecture and example code for decision tree unit \"\"\"\n",
    "\n",
    "import sys\n",
    "#from class_vis import prettyPicture, output_image\n",
    "#from prep_terrain_data import makeTerrainData\n",
    "\n",
    "import matplotlib.pyplot as plt\n",
    "import numpy as np\n",
    "import pylab as pl\n",
    "#from classifyDT import classify\n",
    "from IPython.display import Image\n",
    "\n",
    "features_train, labels_train, features_test, labels_test = makeTerrainData()\n",
    "\n",
    "\n",
    "\n",
    "### the classify() function in classifyDT is where the magic\n",
    "### happens--fill in this function in the file 'classifyDT.py'!\n",
    "clf = classify(features_train, labels_train)\n",
    "\n",
    "\n",
    "#### grader code, do not modify below this line\n",
    "\n",
    "prettyPicture(clf, features_test, labels_test)\n",
    "#output_image(\"test.png\", \"png\", open(\"test.png\", \"rb\").read())\n",
    "Image(\"test.png\")"
   ]
  },
  {
   "cell_type": "markdown",
   "metadata": {},
   "source": [
    "#### Let's run some prediction on test data"
   ]
  },
  {
   "cell_type": "code",
   "execution_count": 6,
   "metadata": {
    "collapsed": true
   },
   "outputs": [],
   "source": [
    "pred = clf.predict(features_test)"
   ]
  },
  {
   "cell_type": "markdown",
   "metadata": {},
   "source": [
    "#### Let's evaluate / do accuracy test of our classifier"
   ]
  },
  {
   "cell_type": "code",
   "execution_count": 7,
   "metadata": {
    "collapsed": false
   },
   "outputs": [
    {
     "data": {
      "text/plain": [
       "0.91200000000000003"
      ]
     },
     "execution_count": 7,
     "metadata": {},
     "output_type": "execute_result"
    }
   ],
   "source": [
    "# sklearn accuracy_score function\n",
    "from sklearn.metrics import accuracy_score\n",
    "\n",
    "accuracy_score(pred, labels_test)"
   ]
  },
  {
   "cell_type": "markdown",
   "metadata": {},
   "source": [
    "## How to optimize for better performance\n",
    "\n",
    "There are many hyper-parameters to tune as we have seen earlier, below link has details on these. http://scikit-learn.org/stable/modules/generated/sklearn.tree.DecisionTreeClassifier.html#sklearn.tree.DecisionTreeClassifier\n",
    "\n",
    "However, specifically we will make use of min_samples_split parameter. This basically states minimum number of samples required to split an internal node.\n",
    "\n",
    "![DT](images/ml24.png)\n",
    "\n",
    "So let's see how does this impact our use case  .. \n",
    "\n",
    "Lesser Value means it will keep splitting until minimum reaches the defined thereshold. As on earlier run or left side image, we used split value of 2, and if you we see more closely, there is horizintal blue bar, ie system tried fitting very closely to training data. This may result into over-fitting situation. We can resolve this by increasing value of min split ..\n",
    "\n",
    "![DT](images/ml25.png)\n",
    "\n",
    "### It does impact accuracy as well, ideally it should help boost accuracy .."
   ]
  },
  {
   "cell_type": "code",
   "execution_count": 3,
   "metadata": {
    "collapsed": false
   },
   "outputs": [
    {
     "name": "stdout",
     "output_type": "stream",
     "text": [
      "Accuracy: 0.912\n"
     ]
    },
    {
     "data": {
      "image/png": "[encoded data removed]",
      "text/plain": [
       "<IPython.core.display.Image object>"
      ]
     },
     "execution_count": 3,
     "metadata": {},
     "output_type": "execute_result"
    }
   ],
   "source": [
    "## Let's see it in code ..simply re-writing above function with new attributes\n",
    "\n",
    "def classify(features_train, labels_train):   \n",
    "    ### import the sklearn module for GaussianNB\n",
    "    ### create classifier\n",
    "    ### fit the classifier on the training features and labels\n",
    "    ### return the fit classifier\n",
    "    from sklearn import tree\n",
    "    clf = tree.DecisionTreeClassifier(min_samples_split=50)\n",
    "    return clf.fit(features_train,labels_train)\n",
    "\n",
    " #!/usr/bin/python\n",
    "\n",
    "\"\"\" lecture and example code for decision tree unit \"\"\"\n",
    "\n",
    "import sys\n",
    "#from class_vis import prettyPicture, output_image\n",
    "#from prep_terrain_data import makeTerrainData\n",
    "\n",
    "import matplotlib.pyplot as plt\n",
    "import numpy as np\n",
    "import pylab as pl\n",
    "#from classifyDT import classify\n",
    "from IPython.display import Image\n",
    "\n",
    "features_train, labels_train, features_test, labels_test = makeTerrainData()\n",
    "\n",
    "\n",
    "\n",
    "### the classify() function in classifyDT is where the magic\n",
    "### happens--fill in this function in the file 'classifyDT.py'!\n",
    "clf = classify(features_train, labels_train)\n",
    "\n",
    "\n",
    "#### grader code, do not modify below this line\n",
    "\n",
    "pred = clf.predict(features_test)\n",
    "\n",
    "# sklearn accuracy_score function\n",
    "from sklearn.metrics import accuracy_score\n",
    "\n",
    "print \"Accuracy:\", accuracy_score(pred, labels_test)\n",
    "\n",
    "prettyPicture(clf, features_test, labels_test)\n",
    "#output_image(\"test.png\", \"png\", open(\"test.png\", \"rb\").read())\n",
    "Image(\"test.png\")"
   ]
  },
  {
   "cell_type": "markdown",
   "metadata": {},
   "source": [
    "## Entropy \n",
    "\n",
    "![DT](images/ml26.png)\n",
    "\n",
    "![DT](images/ml27.png)\n",
    "<br>\n",
    "![DT](images/ml28.png)\n",
    "\n",
    "In below example:\n",
    "\n",
    "P${_i}$ for Slow Speed is 0.5 ( It is number of slow examples divide by total examples) and it happens to be same for Fast Speed Examples ..\n",
    "\n",
    "hence, Entropy is 1 which is nothing but <br>\n",
    "Entropy = Entropy Slow + Entropy Fast <br>\n",
    "Entropy = (P${_i}$ * log${_2}$P${_i}$) + (P${_i}$ * log${_2}$P${_i}$)\n",
    "\n",
    "![DT](images/ml29.png)\n",
    "\n",
    "** Entropy of 1 means the classes are fairly coarse and can easily be separated with clear decision boundary**"
   ]
  },
  {
   "cell_type": "markdown",
   "metadata": {},
   "source": [
    "** So how do we apply these back to Decision Trees, for this we must know a new term called Information Gain, in essence DT tries to maximize the Information Gain ** \n",
    "\n",
    "### Information Gain\n",
    "![DT](images/ml30.png)\n",
    "\n",
    "So information gain can help with decision in which vaiable to use for spilitting (more so we are featre engineering)\n",
    "\n",
    "So let's take our old example and start over again on identifying Information Gain for various variables in play ..\n",
    "\n",
    "So we know the parent being Speed Node has Entropy of 1, which is max Entropy, let's start here and compute Entropy, Information Gain\n",
    "\n",
    "![DT](images/ml31.png)\n",
    "\n",
    "![DT](images/ml32.png)\n",
    "\n",
    "So if we split based on the Grade, we get Information Gain as ..\n",
    "![DT](images/ml33.png)\n",
    "\n",
    "So now, let's do the same for Bumpiness ..\n",
    "\n",
    "![DT](images/ml34.png)\n",
    "\n",
    "So Information Gain on Bumpiness is ZERO - which means we will not learn anything if we split on this feature hence we do not want to start splitting here ..\n",
    "\n",
    "![DT](images/ml35.png)\n",
    "\n",
    "So let's see what is the Information Gain on Speed Limit .. \n",
    "\n",
    "As it turns out, information gain is 1, which is the maximum, hence this is definitely the feature we would want to start with when we split ..\n",
    "\n",
    "![DT](images/ml36.png)\n",
    "\n",
    "\n",
    "** So this is how the decision tree looks like at the first split post parent, what we have done until yet is see how DT is figuiring out based on the Information Gain on where to split and how **\n",
    "\n",
    "![DT](images/ml37.png)\n",
    "\n",
    "\n",
    "** Interesting Call Out **\n",
    "\n",
    "By default, DecisionTree use something called as **Gini Index**, which is nothing but another measure similar to **Entropy** for measure of Impurity. And we can choose between these when we define our classifier..\n",
    "<br>[ Watch Youtube Video on how Gini Index calculate the splits, it has different formula and approach. In summary, lower Gini Index Value for columns and further various subsets (categories underneath) is used system to decide on where to start the split ]  \n",
    "\n",
    "![DT](images/ml38.png)"
   ]
  },
  {
   "cell_type": "markdown",
   "metadata": {},
   "source": [
    "# Bias & Variance\n",
    "\n",
    "**Bias** - High Bias ML Algorithm is one that practcially ignores the data. So it almost has no capacity to learn anything.\n",
    "\n",
    "**Variance** - Another extreme is where ML Algorithm is extremely perceptive to data, only replicates stuff it has seen before, this situation we would define as High Variance. This also means that out Algorithm will perform poorly with data it has not seen before and not able to generalize to the new stuff.\n",
    "\n",
    "So ideally, what we want is good balance between Bias & Variance, there are always fine controls to tweak algorithms achieve this balance, and this is the art in ML to learn n master .."
   ]
  },
  {
   "cell_type": "markdown",
   "metadata": {},
   "source": [
    "# DT Strength & Weaknesses\n",
    "\n",
    "**Strengths**\n",
    "1. Easy to use\n",
    "2. Has Graphical Sense to build better intuition and understand\n",
    "3. We can build bigger classifier out of DT and it's called **Ensemble Methods** (We will see examples of building classifiers out of classifiers ie. Ensemble Method in Mini Project)\n",
    "\n",
    "**Weaknesses**\n",
    "1. Prone to overfitting (specifically if feature size is huge) "
   ]
  },
  {
   "cell_type": "markdown",
   "metadata": {},
   "source": [
    "# Mini Project\n",
    "\n",
    "https://github.com/anshoomehra/ud120-projects/tree/master/decision_tree"
   ]
  },
  {
   "cell_type": "code",
   "execution_count": null,
   "metadata": {
    "collapsed": true
   },
   "outputs": [],
   "source": []
  }
 ],
 "metadata": {
  "kernelspec": {
   "display_name": "Python [default]",
   "language": "python",
   "name": "python2"
  },
  "language_info": {
   "codemirror_mode": {
    "name": "ipython",
    "version": 2
   },
   "file_extension": ".py",
   "mimetype": "text/x-python",
   "name": "python",
   "nbconvert_exporter": "python",
   "pygments_lexer": "ipython2",
   "version": "2.7.13"
  }
 },
 "nbformat": 4,
 "nbformat_minor": 2
}
