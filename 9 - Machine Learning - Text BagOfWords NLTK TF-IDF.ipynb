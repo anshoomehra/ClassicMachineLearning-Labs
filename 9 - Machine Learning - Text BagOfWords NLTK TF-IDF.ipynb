{
 "cells": [
  {
   "cell_type": "markdown",
   "metadata": {},
   "source": [
    "# Text Learning via ML\n",
    "\n",
    "1. Bag Of Words\n",
    "2. StopWords\n",
    "3. Stemming\n",
    "4. NLTK\n",
    "5. TF-IDF"
   ]
  },
  {
   "cell_type": "markdown",
   "metadata": {},
   "source": [
    "# Bag of Words\n",
    "\n",
    "Bag of Words is like tossing all the words we encounter as individual tokens with their frequency of occurance in input. If the word happens to repeat we will have only one instance of it with tied frequency on how many times it has been repeated.\n",
    "\n",
    "** Note: Loves and Love are not same, advance tooling to be studied later will help cover such issues **\n",
    "![ML](images/ml62.png)\n",
    "\n",
    "** Note: 'Chicago Bulls' is sports team, but at this stage system can't contextually understand this, will treat this as separate words, advance tooling to be studied later will help cover such issues **\n",
    "\n",
    "![ML](images/ml61.png)\n"
   ]
  },
  {
   "cell_type": "markdown",
   "metadata": {},
   "source": [
    "## Let's implement BagOfWords with sklearn\n",
    "\n",
    "** In sklearn Bag Of Words is referred as CountVectorizer as it doing nothing counting word frequencies **\n",
    "\n",
    "http://scikit-learn.org/stable/modules/feature_extraction.html#text-feature-extraction\n"
   ]
  },
  {
   "cell_type": "code",
   "execution_count": 5,
   "metadata": {
    "collapsed": false,
    "scrolled": true
   },
   "outputs": [
    {
     "data": {
      "text/plain": [
       "<4x9 sparse matrix of type '<type 'numpy.int64'>'\n",
       "\twith 19 stored elements in Compressed Sparse Row format>"
      ]
     },
     "execution_count": 5,
     "metadata": {},
     "output_type": "execute_result"
    }
   ],
   "source": [
    "from sklearn.feature_extraction.text import CountVectorizer\n",
    "\n",
    "vectorizer = CountVectorizer()\n",
    "\n",
    "corpus = [\n",
    "     'This is the first document.',\n",
    "     'This is the second second document.',\n",
    "     'And the third one.',\n",
    "     'Is this the first document?']\n",
    "\n",
    "# Fit words from corpus, which means convert them to indices\n",
    "bag_of_words = vectorizer.fit(corpus)\n",
    "\n",
    "# Transform count the words frequency, keep one instance with with count\n",
    "bag_of_words = vectorizer.transform(corpus)\n",
    "\n",
    "## *** Alternative above two steps can be done in one as : vectorizer.fit_transform(corpus)"
   ]
  },
  {
   "cell_type": "code",
   "execution_count": 15,
   "metadata": {
    "collapsed": false
   },
   "outputs": [
    {
     "name": "stdout",
     "output_type": "stream",
     "text": [
      "Example: (0,1) stands for 0th document (first document) & 1st word, ...\n",
      " which is nothing by ''this'', followed by occurence count in that document ...\n",
      "\n",
      "  (0, 1)\t1\n",
      "  (0, 2)\t1\n",
      "  (0, 3)\t1\n",
      "  (0, 6)\t1\n",
      "  (0, 8)\t1\n",
      "  (1, 1)\t1\n",
      "  (1, 3)\t1\n",
      "  (1, 5)\t2\n",
      "  (1, 6)\t1\n",
      "  (1, 8)\t1\n",
      "  (2, 0)\t1\n",
      "  (2, 4)\t1\n",
      "  (2, 6)\t1\n",
      "  (2, 7)\t1\n",
      "  (3, 1)\t1\n",
      "  (3, 2)\t1\n",
      "  (3, 3)\t1\n",
      "  (3, 6)\t1\n",
      "  (3, 8)\t1\n"
     ]
    }
   ],
   "source": [
    "print \"Example: (0,1) stands for 0th document (first document) & 1st word, ...\"\n",
    "print \" which is nothing by ''this'', followed by occurence count in that document ...\"\n",
    "print(\"\")\n",
    "print bag_of_words"
   ]
  },
  {
   "cell_type": "code",
   "execution_count": 8,
   "metadata": {
    "collapsed": false
   },
   "outputs": [
    {
     "data": {
      "text/plain": [
       "[u'and',\n",
       " u'document',\n",
       " u'first',\n",
       " u'is',\n",
       " u'one',\n",
       " u'second',\n",
       " u'the',\n",
       " u'third',\n",
       " u'this']"
      ]
     },
     "execution_count": 8,
     "metadata": {},
     "output_type": "execute_result"
    }
   ],
   "source": [
    "vectorizer.get_feature_names()"
   ]
  },
  {
   "cell_type": "code",
   "execution_count": 7,
   "metadata": {
    "collapsed": false
   },
   "outputs": [
    {
     "data": {
      "text/plain": [
       "{u'and': 0,\n",
       " u'document': 1,\n",
       " u'first': 2,\n",
       " u'is': 3,\n",
       " u'one': 4,\n",
       " u'second': 5,\n",
       " u'the': 6,\n",
       " u'third': 7,\n",
       " u'this': 8}"
      ]
     },
     "execution_count": 7,
     "metadata": {},
     "output_type": "execute_result"
    }
   ],
   "source": [
    "vectorizer.vocabulary_"
   ]
  },
  {
   "cell_type": "code",
   "execution_count": 33,
   "metadata": {
    "collapsed": false
   },
   "outputs": [
    {
     "name": "stdout",
     "output_type": "stream",
     "text": [
      "WE HAVE FEATURE LIST OR VOCABULARY OF 9 WORDS AS LISTED ABOVE ...\n",
      "IT IS SORTED IN ALPHABETICAL ORDER ...\n",
      "THE ARRAY VALUES BELOW SHOWS 0 OR 1 IF WORD FOUND IN DOCUMENT AT VOCAB INDEX ...\n",
      "HENCE THE ARRAY LEGTH AS 9 ...\n",
      "\n",
      "This is the first document.\n",
      "[0 1 1 1 0 0 1 0 1]\n",
      "\n",
      "This is the second second document.\n",
      "[0 1 0 1 0 2 1 0 1]\n",
      "\n",
      "And the third one.\n",
      "[1 0 0 0 1 0 1 1 0]\n",
      "\n",
      "Is this the first document?\n",
      "[0 1 1 1 0 0 1 0 1]\n",
      "\n",
      "[[0 1 1 1 0 0 1 0 1]\n",
      " [0 1 0 1 0 2 1 0 1]\n",
      " [1 0 0 0 1 0 1 1 0]\n",
      " [0 1 1 1 0 0 1 0 1]]\n",
      "\n"
     ]
    }
   ],
   "source": [
    "print \"WE HAVE FEATURE LIST OR VOCABULARY OF 9 WORDS AS LISTED ABOVE ...\"\n",
    "print \"IT IS SORTED IN ALPHABETICAL ORDER ...\"\n",
    "print \"THE ARRAY VALUES BELOW SHOWS 0 OR 1 IF WORD FOUND IN DOCUMENT AT VOCAB INDEX ...\"\n",
    "print \"HENCE THE ARRAY LEGTH AS 9 ...\\n\"\n",
    "\n",
    "print 'This is the first document.'\n",
    "print  bag_of_words.toarray()[0]\n",
    "\n",
    "print(\"\")\n",
    "\n",
    "print 'This is the second second document.'\n",
    "print  bag_of_words.toarray()[1]\n",
    "print(\"\")\n",
    "\n",
    "print 'And the third one.'\n",
    "print  bag_of_words.toarray()[2]\n",
    "print(\"\")\n",
    "\n",
    "print 'Is this the first document?'\n",
    "print  bag_of_words.toarray()[3]\n",
    "print(\"\")\n",
    "\n",
    "print  bag_of_words.toarray()\n",
    "print(\"\")"
   ]
  },
  {
   "cell_type": "code",
   "execution_count": 9,
   "metadata": {
    "collapsed": false
   },
   "outputs": [
    {
     "data": {
      "text/plain": [
       "7"
      ]
     },
     "execution_count": 9,
     "metadata": {},
     "output_type": "execute_result"
    }
   ],
   "source": [
    "vectorizer.vocabulary_.get(\"third\")"
   ]
  },
  {
   "cell_type": "markdown",
   "metadata": {},
   "source": [
    "# Stopwords - Low information words which occur often"
   ]
  },
  {
   "cell_type": "markdown",
   "metadata": {},
   "source": [
    "![ML](images/ml63.png)"
   ]
  },
  {
   "cell_type": "markdown",
   "metadata": {},
   "source": [
    "# NLTK - Natural Language Toolkit\n",
    "\n",
    "It is a tool kit to help with Natural Language Processing.\n",
    "\n",
    "Let's use this to derive common stop words in english language"
   ]
  },
  {
   "cell_type": "code",
   "execution_count": 36,
   "metadata": {
    "collapsed": true
   },
   "outputs": [],
   "source": [
    "from nltk.corpus import stopwords\n",
    "\n",
    "sw = stopwords.words(\"english\")"
   ]
  },
  {
   "cell_type": "code",
   "execution_count": 37,
   "metadata": {
    "collapsed": false
   },
   "outputs": [
    {
     "name": "stdout",
     "output_type": "stream",
     "text": [
      "Let's see first 10 stopwords\n"
     ]
    },
    {
     "data": {
      "text/plain": [
       "[u'i',\n",
       " u'me',\n",
       " u'my',\n",
       " u'myself',\n",
       " u'we',\n",
       " u'our',\n",
       " u'ours',\n",
       " u'ourselves',\n",
       " u'you',\n",
       " u'your']"
      ]
     },
     "execution_count": 37,
     "metadata": {},
     "output_type": "execute_result"
    }
   ],
   "source": [
    "print \"Let's see first 10 stopwords\"\n",
    "sw[:10]"
   ]
  },
  {
   "cell_type": "code",
   "execution_count": 38,
   "metadata": {
    "collapsed": false
   },
   "outputs": [
    {
     "name": "stdout",
     "output_type": "stream",
     "text": [
      "We have Total 153 Stopwords \n"
     ]
    }
   ],
   "source": [
    "print \"We have Total {} Stopwords \".format(len(sw))"
   ]
  },
  {
   "cell_type": "markdown",
   "metadata": {},
   "source": [
    "# STEMMING \n",
    "\n",
    "Some words mean the same example: Response, Respond etc. These are ideally counted as seperated words but they mean the same - so what count them multiple times. **Stemming** is a technique which helps solves this.\n",
    "\n",
    "Stemming has process called 'Stemmer' - It basically group words with same context and group them under same root, so all these words can then theortically be replaced as one root and in vocabulary counted as one. Example below ..\n",
    "\n",
    "![ML](images/ml64.png)\n",
    "\n",
    "Stemming is complex technique, there are profressional linguist who work very hard to define what words should be formed under same group, so ideally we do not do this ourself, but use the pre-defined understanding from common public sources example NLTK.\n",
    "\n",
    "There are many stemmers available, we will be trying one of the called 'SnowballStemmer'"
   ]
  },
  {
   "cell_type": "code",
   "execution_count": 39,
   "metadata": {
    "collapsed": false
   },
   "outputs": [
    {
     "data": {
      "text/plain": [
       "u'respons'"
      ]
     },
     "execution_count": 39,
     "metadata": {},
     "output_type": "execute_result"
    }
   ],
   "source": [
    "from nltk.stem.snowball import SnowballStemmer\n",
    "\n",
    "stemmer = SnowballStemmer(\"english\")\n",
    "\n",
    "stemmer.stem(\"response\")"
   ]
  },
  {
   "cell_type": "code",
   "execution_count": 40,
   "metadata": {
    "collapsed": false
   },
   "outputs": [
    {
     "data": {
      "text/plain": [
       "u'respons'"
      ]
     },
     "execution_count": 40,
     "metadata": {},
     "output_type": "execute_result"
    }
   ],
   "source": [
    "stemmer.stem(\"responsive\")"
   ]
  },
  {
   "cell_type": "code",
   "execution_count": 41,
   "metadata": {
    "collapsed": false
   },
   "outputs": [
    {
     "data": {
      "text/plain": [
       "u'respond'"
      ]
     },
     "execution_count": 41,
     "metadata": {},
     "output_type": "execute_result"
    }
   ],
   "source": [
    "stemmer.stem(\"respond\")"
   ]
  },
  {
   "cell_type": "markdown",
   "metadata": {},
   "source": [
    "** So all above outputs shows all these words belong to same stem/root **"
   ]
  },
  {
   "cell_type": "code",
   "execution_count": 42,
   "metadata": {
    "collapsed": false
   },
   "outputs": [
    {
     "data": {
      "text/plain": [
       "u'unrespons'"
      ]
     },
     "execution_count": 42,
     "metadata": {},
     "output_type": "execute_result"
    }
   ],
   "source": [
    "stemmer.stem(\"unresponsive\")"
   ]
  },
  {
   "cell_type": "markdown",
   "metadata": {},
   "source": [
    "** Ideally unresponsive should be same Stem as before, but as we see for this particular stemmer this under different stem - so we will see what our needs demands and may require usto do some fine tuning afterwards, or it could be that we may want to keep it as-is **"
   ]
  },
  {
   "cell_type": "markdown",
   "metadata": {},
   "source": [
    "## Order of Operation Thus Far\n",
    "\n",
    "![ML](images/ml65.png)\n",
    "\n",
    "This may intuitively makes sense too, if we do stemming later than BoW, we will not adding much value removing the noise from our vocabulary.\n",
    "\n",
    "Here's an example that might help if this is all a little abstract:\n",
    "\n",
    "Suppose that the text in question is \"responsibility is responsive to responsible people\" (ok, this doesn't make sense as a sentence, but you know what I mean...)\n",
    "\n",
    "If you put into bag of words straightaway, you get something like\n",
    "\n",
    "    [is:1 \n",
    "    people: 1\n",
    "    responsibility: 1\n",
    "    responsive: 1\n",
    "    responsible:1]\n",
    "\n",
    "and then applying stemming gives you \n",
    "\n",
    "    [is:1\n",
    "    people:1\n",
    "    respon:1\n",
    "    respon:1\n",
    "    respon:1]\n",
    "\n",
    "(if you can even find a way to stem the count vectorizer object in sklearn, the most likely outcome of trying would just be that your code would crash...)\n",
    "\n",
    "Then you would need another post-processing step to get to the following bag of words, which is what you'd get straightaway if you stemmed first:\n",
    "\n",
    "    [is:1 \n",
    "    people:1\n",
    "    respon:3]\n",
    "\n",
    "Obviously the second is probably the one you want, so stemming first gets you the right answer here."
   ]
  },
  {
   "cell_type": "markdown",
   "metadata": {},
   "source": [
    "# TF-IDF "
   ]
  },
  {
   "cell_type": "markdown",
   "metadata": {},
   "source": [
    "![ML](images/ml66.png)\n",
    "\n",
    "We will do hands-on little later as part of project below .."
   ]
  },
  {
   "cell_type": "markdown",
   "metadata": {},
   "source": [
    "## MINI-PROJECT\n",
    "\n",
    "In the beginning of this class, you identified emails by their authors using a number of supervised classification algorithms. In those projects, we handled the preprocessing for you, transforming the input emails into a TfIdf so they could be fed into the algorithms. Now you will construct your own version of that preprocessing step, so that you are going directly from raw data to processed features.\n",
    "\n",
    "You will be given two text files: one contains the locations of all the emails from Sara, the other has emails from Chris. You will also have access to the parseOutText() function, which accepts an opened email as an argument and returns a string containing all the (stemmed) words in the email."
   ]
  },
  {
   "cell_type": "markdown",
   "metadata": {},
   "source": [
    "parseOutText() takes the opened email and returns only the text part, stripping away any ' metadata that may occur at the beginning of the email, so what's left is the text of the message. "
   ]
  },
  {
   "cell_type": "code",
   "execution_count": 92,
   "metadata": {
    "collapsed": true
   },
   "outputs": [],
   "source": [
    "#!/usr/bin/python\n",
    "\n",
    "from nltk.stem.snowball import SnowballStemmer\n",
    "import string\n",
    "\n",
    "def parseOutText(f):\n",
    "    \"\"\" given an opened email file f, parse out all text below the\n",
    "        metadata block at the top\n",
    "        (in Part 2, you will also add stemming capabilities)\n",
    "        and return a string that contains all the words\n",
    "        in the email (space-separated) \n",
    "        \n",
    "        example use case:\n",
    "        f = open(\"email_file_name.txt\", \"r\")\n",
    "        text = parseOutText(f)\n",
    "        \n",
    "        \"\"\"\n",
    "    \n",
    "\n",
    "    f.seek(0)  ### go back to beginning of file (annoying)\n",
    "    all_text = f.read()\n",
    "\n",
    "    ### split off metadata\n",
    "    content = all_text.split(\"X-FileName:\")\n",
    "    words = \"\"\n",
    "    \n",
    "    #Instantiate Stemmer\n",
    "    stemmer = SnowballStemmer(\"english\")\n",
    "    \n",
    "    if len(content) > 1:\n",
    "        ### remove punctuation\n",
    "        text_string = content[1].translate(string.maketrans(\"\", \"\"), string.punctuation)\n",
    "\n",
    "        ### project part 2: comment out the line below\n",
    "        #words = text_string\n",
    "\n",
    "        ### split the text string into individual words, stem each word,\n",
    "        ### and append the stemmed word to words (make sure there's a single\n",
    "        ### space between each stemmed word)\n",
    "        \n",
    "        to_stem = text_string.replace('\\n', ' ')\n",
    "        \n",
    "        for word in to_stem.split(\" \"):\n",
    "            words += \" \" + stemmer.stem(word)\n",
    "        \n",
    "    return words\n",
    "\n"
   ]
  },
  {
   "cell_type": "markdown",
   "metadata": {},
   "source": [
    "Quick warm-up to see how it works ..\n",
    "\n",
    "Original Content from Email FIle: \n",
    "\n",
    "******\n",
    "To: Katie_and_Sebastians_Excellent_Students@udacity.com\n",
    "<br>From: katie@udacity.com\n",
    "<br>X-FileName:\n",
    "\n",
    "Hi Everyone!  If you can read this message, you're properly using parseOutText.  Please proceed to the next part of the project!\n",
    "\n",
    "*******"
   ]
  },
  {
   "cell_type": "code",
   "execution_count": 93,
   "metadata": {
    "collapsed": false
   },
   "outputs": [
    {
     "name": "stdout",
     "output_type": "stream",
     "text": [
      "   hi everyon  if you can read this messag your proper use parseouttext  pleas proceed to the next part of the project \n"
     ]
    }
   ],
   "source": [
    "def main():\n",
    "    ff = open(\"../ud120-projects/text_learning/test_email.txt\", \"r\")\n",
    "    text = parseOutText(ff)\n",
    "    print text\n",
    "\n",
    "if __name__ == '__main__':\n",
    "    main()"
   ]
  },
  {
   "cell_type": "markdown",
   "metadata": {},
   "source": [
    "### So our parser is working fine on test data, let's dwell in to real emails & parse them out .."
   ]
  },
  {
   "cell_type": "code",
   "execution_count": 94,
   "metadata": {
    "collapsed": false
   },
   "outputs": [
    {
     "name": "stdout",
     "output_type": "stream",
     "text": [
      "emails processed\n"
     ]
    }
   ],
   "source": [
    "#!/usr/bin/python\n",
    "\n",
    "import os\n",
    "import pickle\n",
    "import re\n",
    "import sys\n",
    "\n",
    "sys.path.append( \"../ud120-projects/tools/\" )\n",
    "#from parse_out_email_text import parseOutText\n",
    "\n",
    "\"\"\"\n",
    "    Starter code to process the emails from Sara and Chris to extract\n",
    "    the features and get the documents ready for classification.\n",
    "\n",
    "    The list of all the emails from Sara are in the from_sara list\n",
    "    likewise for emails from Chris (from_chris)\n",
    "\n",
    "    The actual documents are in the Enron email dataset, which\n",
    "    you downloaded/unpacked in Part 0 of the first mini-project. If you have\n",
    "    not obtained the Enron email corpus, run startup.py in the tools folder.\n",
    "\n",
    "    The data is stored in lists and packed away in pickle files at the end.\n",
    "\"\"\"\n",
    "\n",
    "from_sara  = open(\"../ud120-projects/text_learning/from_sara.txt\", \"r\")\n",
    "from_chris = open(\"../ud120-projects/text_learning/from_chris.txt\", \"r\")\n",
    "\n",
    "from_data = []\n",
    "word_data = []\n",
    "\n",
    "### temp_counter is a way to speed up the development--there are\n",
    "### thousands of emails from Sara and Chris, so running over all of them\n",
    "### can take a long time\n",
    "### temp_counter helps you only look at the first 200 emails in the list so you\n",
    "### can iterate your modifications quicker\n",
    "temp_counter = 0\n",
    "\n",
    "\n",
    "for name, from_person in [(\"sara\", from_sara), (\"chris\", from_chris)]:\n",
    "    for path in from_person:\n",
    "        ### only look at first 200 emails when developing\n",
    "        ### once everything is working, remove this line to run over full dataset\n",
    "        temp_counter += 1\n",
    "        # remove counter once code is tested ..\n",
    "        # if temp_counter < 200:\n",
    "        path = os.path.join('../ud120-projects/', path[:-1])\n",
    "        #print path\n",
    "        email = open(path, \"r\")\n",
    "\n",
    "        ### use parseOutText to extract the text from the opened email\n",
    "        text = parseOutText(email)\n",
    "        #print \"Text -- : \", text \n",
    "\n",
    "        ### use str.replace() to remove any instances of the words\n",
    "        ### [\"sara\", \"shackleton\", \"chris\", \"germani\"]\n",
    "        for rm_word in [\"sara\", \"shackleton\", \"chris\", \"germani\"]:\n",
    "            text.replace(rm_word, '')\n",
    "\n",
    "        ### append the text to word_data\n",
    "        word_data.append(text)\n",
    "\n",
    "        ### append a 0 to from_data if email is from Sara, and 1 if email is from Chris\n",
    "        if name==\"sara\":\n",
    "            from_data.append(0)\n",
    "        else:\n",
    "            from_data.append(1)\n",
    "\n",
    "        email.close()\n",
    "\n",
    "print \"emails processed\"\n",
    "from_sara.close()\n",
    "from_chris.close()\n",
    "\n",
    "pickle.dump( word_data, open(\"your_word_data.pkl\", \"w\") )\n",
    "pickle.dump( from_data, open(\"your_email_authors.pkl\", \"w\") )\n",
    "\n",
    "\n",
    "### in Part 4, do TfIdf vectorization here\n",
    "from sklearn.feature_extraction.text import TfidfVectorizer\n",
    "\n",
    "vectorizer = TfidfVectorizer(stop_words='english')\n",
    "\n",
    "tfidf_result = vectorizer.fit_transform(word_data)"
   ]
  },
  {
   "cell_type": "code",
   "execution_count": 95,
   "metadata": {
    "collapsed": false
   },
   "outputs": [
    {
     "name": "stdout",
     "output_type": "stream",
     "text": [
      "  tjonesnsf\r",
      " \r",
      " stephani and sam need nymex calendar\n"
     ]
    }
   ],
   "source": [
    "print word_data[152]"
   ]
  },
  {
   "cell_type": "code",
   "execution_count": 107,
   "metadata": {
    "collapsed": false
   },
   "outputs": [
    {
     "data": {
      "text/plain": [
       "[u'forsman',\n",
       " u'forster',\n",
       " u'forstercorpenronenron',\n",
       " u'forsyth',\n",
       " u'forsythenronenronxg',\n",
       " u'forsythhouect',\n",
       " u'forsythhouectect',\n",
       " u'fort',\n",
       " u'fortemconedcom',\n",
       " u'fortemconedcomenron']"
      ]
     },
     "execution_count": 107,
     "metadata": {},
     "output_type": "execute_result"
    }
   ],
   "source": [
    "vectorizer.get_feature_names()[20000:20010]"
   ]
  },
  {
   "cell_type": "code",
   "execution_count": 97,
   "metadata": {
    "collapsed": false
   },
   "outputs": [
    {
     "data": {
      "text/plain": [
       "39605"
      ]
     },
     "execution_count": 97,
     "metadata": {},
     "output_type": "execute_result"
    }
   ],
   "source": [
    "len(vectorizer.get_feature_names())"
   ]
  },
  {
   "cell_type": "code",
   "execution_count": 113,
   "metadata": {
    "collapsed": false
   },
   "outputs": [
    {
     "name": "stdout",
     "output_type": "stream",
     "text": [
      "sara                                               Score: 703.56324937\n",
      "cgermannsf                                         Score: 523.276976525\n"
     ]
    }
   ],
   "source": [
    "import numpy as np\n",
    "\n",
    "def display_scores(vectorizer, tfidf_result):\n",
    "    # http://stackoverflow.com/questions/16078015/\n",
    "    scores = zip(vectorizer.get_feature_names(),\n",
    "                 np.asarray(tfidf_result.sum(axis=0)).ravel())\n",
    "    sorted_scores = sorted(scores, key=lambda x: x[1], reverse=True)\n",
    "    \n",
    "    #Counter to Stop avoiding all be printed\n",
    "    print_counter = 1\n",
    "    \n",
    "    for item in sorted_scores:\n",
    "        print \"{0:50} Score: {1}\".format(item[0], item[1])\n",
    "        print_counter += 1\n",
    "        if 10%print_counter:\n",
    "            break\n",
    "        \n",
    "        \n",
    "display_scores(vectorizer, tfidf_result)"
   ]
  },
  {
   "cell_type": "code",
   "execution_count": 100,
   "metadata": {
    "collapsed": false
   },
   "outputs": [
    {
     "data": {
      "text/plain": [
       "u'skeena'"
      ]
     },
     "execution_count": 100,
     "metadata": {},
     "output_type": "execute_result"
    }
   ],
   "source": [
    "vectorizer.get_feature_names()[34598]"
   ]
  }
 ],
 "metadata": {
  "kernelspec": {
   "display_name": "Python [default]",
   "language": "python",
   "name": "python2"
  },
  "language_info": {
   "codemirror_mode": {
    "name": "ipython",
    "version": 2
   },
   "file_extension": ".py",
   "mimetype": "text/x-python",
   "name": "python",
   "nbconvert_exporter": "python",
   "pygments_lexer": "ipython2",
   "version": "2.7.13"
  }
 },
 "nbformat": 4,
 "nbformat_minor": 2
}
