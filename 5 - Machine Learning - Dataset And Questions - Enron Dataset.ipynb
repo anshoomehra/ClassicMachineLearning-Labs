{
 "cells": [
  {
   "cell_type": "markdown",
   "metadata": {},
   "source": [
    "# Dataset And Questions using Enron Dataset\n",
    "(Enron was involved with one of the biggest Financial Frauds in history, and the public dataset is of over 600,000 emails which were made public as part of investigation. Hence, this data is really interetsed to be used as sample use for studying as these are real emails & lot can be infered from these) "
   ]
  },
  {
   "cell_type": "markdown",
   "metadata": {},
   "source": [
    "**POI - Person Of Interest** [ This is the list of employees we are interested to study for various plausible reasons, like they were indicted, testified etc etc\n",
    "\n",
    "** Nature of Data **\n",
    "1. Numerical\n",
    "2. Categorical\n",
    "3. Text\n",
    "4. Temporal (Time Sensitive)"
   ]
  },
  {
   "cell_type": "code",
   "execution_count": 1,
   "metadata": {
    "collapsed": true
   },
   "outputs": [],
   "source": [
    "#!/usr/bin/python\n",
    "\n",
    "\"\"\" \n",
    "    Starter code for exploring the Enron dataset (emails + finances);\n",
    "    loads up the dataset (pickled dict of dicts).\n",
    "\n",
    "    The dataset has the form:\n",
    "    enron_data[\"LASTNAME FIRSTNAME MIDDLEINITIAL\"] = { features_dict }\n",
    "\n",
    "    {features_dict} is a dictionary of features associated with that person.\n",
    "    You should explore features_dict as part of the mini-project,\n",
    "    but here's an example to get you started:\n",
    "\n",
    "    enron_data[\"SKILLING JEFFREY K\"][\"bonus\"] = 5600000\n",
    "    \n",
    "\"\"\"\n",
    "\n",
    "import pickle\n",
    "\n",
    "enron_data = pickle.load(open(\"../ud120-projects/final_project/final_project_dataset.pkl\", \"r\"))"
   ]
  },
  {
   "cell_type": "code",
   "execution_count": 18,
   "metadata": {
    "collapsed": false
   },
   "outputs": [
    {
     "name": "stdout",
     "output_type": "stream",
     "text": [
      "Number of Employees in Test Sample Set:  146\n"
     ]
    }
   ],
   "source": [
    "print \"Number of Employees in Test Sample Set: \", len(enron_data)"
   ]
  },
  {
   "cell_type": "code",
   "execution_count": 19,
   "metadata": {
    "collapsed": false
   },
   "outputs": [
    {
     "name": "stdout",
     "output_type": "stream",
     "text": [
      "Number of Features per Employees in Test Sample Set:  21\n"
     ]
    }
   ],
   "source": [
    "print \"Number of Features per Employees in Test Sample Set: \",\\\n",
    "       len(enron_data['ALLEN PHILLIP K'])"
   ]
  },
  {
   "cell_type": "code",
   "execution_count": 30,
   "metadata": {
    "collapsed": false
   },
   "outputs": [
    {
     "name": "stdout",
     "output_type": "stream",
     "text": [
      "Number of POI in Test Sample Set:  18\n"
     ]
    }
   ],
   "source": [
    "poi_count = 0\n",
    "\n",
    "for key, value in enron_data.items():\n",
    "    if value['poi']==1:\n",
    "        poi_count += 1\n",
    "\n",
    "print \"Number of POI in Test Sample Set: \", poi_count"
   ]
  },
  {
   "cell_type": "code",
   "execution_count": 35,
   "metadata": {
    "collapsed": false
   },
   "outputs": [
    {
     "data": {
      "text/plain": [
       "{'bonus': 'NaN',\n",
       " 'deferral_payments': 564348,\n",
       " 'deferred_income': 'NaN',\n",
       " 'director_fees': 'NaN',\n",
       " 'email_address': 'james.prentice@enron.com',\n",
       " 'exercised_stock_options': 886231,\n",
       " 'expenses': 'NaN',\n",
       " 'from_messages': 'NaN',\n",
       " 'from_poi_to_this_person': 'NaN',\n",
       " 'from_this_person_to_poi': 'NaN',\n",
       " 'loan_advances': 'NaN',\n",
       " 'long_term_incentive': 'NaN',\n",
       " 'other': 'NaN',\n",
       " 'poi': False,\n",
       " 'restricted_stock': 208809,\n",
       " 'restricted_stock_deferred': 'NaN',\n",
       " 'salary': 'NaN',\n",
       " 'shared_receipt_with_poi': 'NaN',\n",
       " 'to_messages': 'NaN',\n",
       " 'total_payments': 564348,\n",
       " 'total_stock_value': 1095040}"
      ]
     },
     "execution_count": 35,
     "metadata": {},
     "output_type": "execute_result"
    }
   ],
   "source": [
    "# Just an example on how to read data for specific employee\n",
    "enron_data['PRENTICE JAMES']"
   ]
  },
  {
   "cell_type": "code",
   "execution_count": 36,
   "metadata": {
    "collapsed": false
   },
   "outputs": [
    {
     "data": {
      "text/plain": [
       "11"
      ]
     },
     "execution_count": 36,
     "metadata": {},
     "output_type": "execute_result"
    }
   ],
   "source": [
    "# Just an example on how to read data for specific employee, but also specific feature\n",
    "enron_data['COLWELL WESLEY']['from_this_person_to_poi']"
   ]
  },
  {
   "cell_type": "code",
   "execution_count": 37,
   "metadata": {
    "collapsed": false
   },
   "outputs": [
    {
     "data": {
      "text/plain": [
       "19250000"
      ]
     },
     "execution_count": 37,
     "metadata": {},
     "output_type": "execute_result"
    }
   ],
   "source": [
    "# Just an example on how to read data for specific employee with middle names\n",
    "enron_data['SKILLING JEFFREY K']['exercised_stock_options']"
   ]
  },
  {
   "cell_type": "code",
   "execution_count": 76,
   "metadata": {
    "collapsed": false
   },
   "outputs": [
    {
     "name": "stdout",
     "output_type": "stream",
     "text": [
      "Number of People with Salary as not NaN:  95\n"
     ]
    }
   ],
   "source": [
    "ppl_with_salary = 0\n",
    "\n",
    "for key, value in enron_data.items():\n",
    "    if value['salary'] != \"NaN\":\n",
    "        ppl_with_salary += 1\n",
    "        #print \"Value\", value['salary'] \n",
    "\n",
    "print \"Number of People with Salary as not NaN: \", ppl_with_salary"
   ]
  },
  {
   "cell_type": "code",
   "execution_count": 77,
   "metadata": {
    "collapsed": false
   },
   "outputs": [
    {
     "name": "stdout",
     "output_type": "stream",
     "text": [
      "Number of People with Email as not NaN:  111\n"
     ]
    }
   ],
   "source": [
    "import numpy as np\n",
    "import pandas as pd\n",
    "\n",
    "ppl_with_email = 0\n",
    "\n",
    "for key, value in enron_data.items():\n",
    "    #print \"Value Before\", type(value['email_address']) \n",
    "    if (value['email_address'] != \"NaN\"):\n",
    "        ppl_with_email += 1\n",
    "        #print \"Value\", value['email_address'] \n",
    "\n",
    "print \"Number of People with Email as not NaN: \", ppl_with_email"
   ]
  },
  {
   "cell_type": "code",
   "execution_count": null,
   "metadata": {
    "collapsed": true
   },
   "outputs": [],
   "source": []
  }
 ],
 "metadata": {
  "kernelspec": {
   "display_name": "Python [default]",
   "language": "python",
   "name": "python2"
  },
  "language_info": {
   "codemirror_mode": {
    "name": "ipython",
    "version": 2
   },
   "file_extension": ".py",
   "mimetype": "text/x-python",
   "name": "python",
   "nbconvert_exporter": "python",
   "pygments_lexer": "ipython2",
   "version": "2.7.13"
  }
 },
 "nbformat": 4,
 "nbformat_minor": 2
}
